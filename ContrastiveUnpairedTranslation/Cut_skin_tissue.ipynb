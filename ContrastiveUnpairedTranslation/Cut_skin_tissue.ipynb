{
 "cells": [
  {
   "cell_type": "markdown",
   "metadata": {},
   "source": [
    "# TRAIN Skin tissue  dataset\n",
    "Unaligned"
   ]
  },
  {
   "cell_type": "code",
   "execution_count": null,
   "metadata": {},
   "outputs": [],
   "source": [
    "!python train.py --dataroot ./datasets/imgreg/Image_registration/skin_tissue/train/AB \\\n",
    "--name cut_skin_tissue_aligned_mode_aligned --lr=0.0001 --lr_decay_iters=60 --lr_policy step --batch_size=1 --n_epochs=400 \\\n",
    "--preprocess resize --load_size=256 --save_epoch_freq=60 --n_epochs=400  --display_port=8089 --dataset_mode aligned  --gpu_ids=0"
   ]
  },
  {
   "cell_type": "code",
   "execution_count": null,
   "metadata": {},
   "outputs": [],
   "source": [
    "!python test.py --dataroot ./datasets/imgreg/Image_registration/skin_tissue/test2/ \\\n",
    "--preprocess resize --load_size=256 --name cut_skin_tissue_aligned_mode_aligned --CUT_mode CUT --phase test --num_test=99999"
   ]
  },
  {
   "cell_type": "markdown",
   "metadata": {},
   "source": [
    "# Unaligned training"
   ]
  },
  {
   "cell_type": "code",
   "execution_count": null,
   "metadata": {
    "collapsed": true
   },
   "outputs": [],
   "source": [
    "!python train.py --dataroot ./datasets/Image_registration/skin_tissue/train/Unaligned/ \\\n",
    "--name cut_skin_tissue_unaligned --lr=0.0001 --lr_decay_iters=60 --lr_policy step --batch_size=1 --use_wandb --n_epochs=400 \\\n",
    "--preprocess resize --load_size=256 --save_epoch_freq=60 --n_epochs=150  --display_port=8087\n"
   ]
  },
  {
   "cell_type": "code",
   "execution_count": null,
   "metadata": {
    "collapsed": true
   },
   "outputs": [],
   "source": [
    "!python test.py --dataroot ./datasets/Image_registration/skin_tissue/test2/ \\\n",
    "--preprocess resize --load_size=256 --name cut_skin_tissue_unaligned --CUT_mode CUT --phase test --num_test=99999"
   ]
  }
 ],
 "metadata": {
  "accelerator": "GPU",
  "colab": {
   "collapsed_sections": [],
   "include_colab_link": true,
   "name": "CycleGAN",
   "provenance": []
  },
  "kernelspec": {
   "display_name": "Python 3",
   "language": "python",
   "name": "python3"
  },
  "language_info": {
   "codemirror_mode": {
    "name": "ipython",
    "version": 3
   },
   "file_extension": ".py",
   "mimetype": "text/x-python",
   "name": "python",
   "nbconvert_exporter": "python",
   "pygments_lexer": "ipython3",
   "version": "3.6.9"
  }
 },
 "nbformat": 4,
 "nbformat_minor": 1
}
